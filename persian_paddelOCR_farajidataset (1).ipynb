{
  "nbformat": 4,
  "nbformat_minor": 0,
  "metadata": {
    "colab": {
      "provenance": []
    },
    "kernelspec": {
      "name": "python3",
      "display_name": "Python 3"
    },
    "language_info": {
      "name": "python"
    },
    "accelerator": "GPU",
    "gpuClass": "standard"
  },
  "cells": [
    {
      "cell_type": "code",
      "execution_count": 1,
      "metadata": {
        "colab": {
          "base_uri": "https://localhost:8080/"
        },
        "id": "PNHaHc7s3cOv",
        "outputId": "8e4f4536-0e3a-4f88-fdae-60401c0b5adb"
      },
      "outputs": [
        {
          "output_type": "stream",
          "name": "stdout",
          "text": [
            "Mounted at /content/drive\n"
          ]
        }
      ],
      "source": [
        "from google.colab import drive\n",
        "drive.mount('/content/drive')"
      ]
    },
    {
      "cell_type": "markdown",
      "source": [
        "Install Paddleocr compatible with the system (cuda11.2 & system linux)\n",
        "\n",
        "download pretrained model this link\n",
        "\n",
        "https://drive.google.com/file/d/18wR7X2zDEdWBHBTPXSJT5S5L1_O7rmKh/view?usp=sharing"
      ],
      "metadata": {
        "id": "lupxbsEy3wJG"
      }
    },
    {
      "cell_type": "code",
      "source": [
        "!python -m pip install paddlepaddle-gpu==2.4.1.post112 -f https://www.paddlepaddle.org.cn/whl/linux/mkl/avx/stable.html\n",
        "!git clone https://github.com/PaddlePaddle/PaddleOCR.git\n",
        "%cd /content/PaddleOCR\n",
        "!pip install -r requirements.txt\n"
      ],
      "metadata": {
        "id": "La9sJ0gP3nAH"
      },
      "execution_count": null,
      "outputs": []
    },
    {
      "cell_type": "code",
      "source": [
        "!mkdir pretrained_model\n",
        "%cd pretrained_model/\n",
        "# !wget https://paddleocr.bj.bcebos.com/PP-OCRv3/multilingual/arabic_PP-OCRv3_rec_train.tar\n",
        "!wget https://paddleocr.bj.bcebos.com/dygraph_v2.0/en/rec_r34_vd_none_bilstm_ctc_v2.0_train.tar\n",
        "# !tar -xf arabic_PP-OCRv3_rec_train.tar && rm -rf arabic_PP-OCRv3_rec_train.tar\n",
        "!tar -xf rec_r34_vd_none_bilstm_ctc_v2.0_train.tar && rm -rf rec_r34_vd_none_bilstm_ctc_v2.0_train.tar"
      ],
      "metadata": {
        "id": "oWz9zzKc3272",
        "colab": {
          "base_uri": "https://localhost:8080/"
        },
        "outputId": "188332e5-44d5-40c6-98ec-6dffe59b81d4"
      },
      "execution_count": 9,
      "outputs": [
        {
          "output_type": "stream",
          "name": "stdout",
          "text": [
            "/content/PaddleOCR/pretrained_model\n",
            "--2023-02-12 12:14:03--  https://paddleocr.bj.bcebos.com/dygraph_v2.0/en/rec_r34_vd_none_bilstm_ctc_v2.0_train.tar\n",
            "Resolving paddleocr.bj.bcebos.com (paddleocr.bj.bcebos.com)... 103.235.46.61, 2409:8c04:1001:1002:0:ff:b001:368a\n",
            "Connecting to paddleocr.bj.bcebos.com (paddleocr.bj.bcebos.com)|103.235.46.61|:443... connected.\n",
            "HTTP request sent, awaiting response... 200 OK\n",
            "Length: 469626880 (448M) [application/x-tar]\n",
            "Saving to: ‘rec_r34_vd_none_bilstm_ctc_v2.0_train.tar’\n",
            "\n",
            "rec_r34_vd_none_bil 100%[===================>] 447.87M  9.90MB/s    in 51s     \n",
            "\n",
            "2023-02-12 12:14:56 (8.83 MB/s) - ‘rec_r34_vd_none_bilstm_ctc_v2.0_train.tar’ saved [469626880/469626880]\n",
            "\n"
          ]
        }
      ]
    },
    {
      "cell_type": "code",
      "source": [
        "!rm -rf /content/PaddleOCR/pretrained_model"
      ],
      "metadata": {
        "id": "cLrBkfeKripm"
      },
      "execution_count": 8,
      "outputs": []
    },
    {
      "cell_type": "markdown",
      "source": [
        "#Removing extra weights in training"
      ],
      "metadata": {
        "id": "jGMBKnSR4ioO"
      }
    },
    {
      "cell_type": "code",
      "source": [
        "# import glob,pandas,shutil\n",
        "# files=glob.glob(\"/content/drive/MyDrive/output_IDPL/*\")\n",
        "# import os\n",
        "# for file in files:\n",
        "#   if file.find('676')<=0 and file.find('latest')<=0 and file.find('train')<=0 and file.find('best')<=0 and file.find('config')<=0:\n",
        "#     os.remove(file)"
      ],
      "metadata": {
        "id": "pMoQFJjI35j_"
      },
      "execution_count": 4,
      "outputs": []
    },
    {
      "cell_type": "markdown",
      "source": [
        "#unzip dataset"
      ],
      "metadata": {
        "id": "M36rVuRJ5Pj2"
      }
    },
    {
      "cell_type": "code",
      "source": [
        "# !unzip path_to_file.zip -d path_to_directory"
      ],
      "metadata": {
        "id": "xXrrRfzt5PWO"
      },
      "execution_count": 5,
      "outputs": []
    },
    {
      "cell_type": "markdown",
      "source": [
        "#uploading dataset"
      ],
      "metadata": {
        "id": "ezVkpbjd5JU-"
      }
    },
    {
      "cell_type": "code",
      "source": [
        "!mkdir /content/PaddleOCR/train_data\n",
        "!cp /content/drive/MyDrive/dataset_mini/train -r /content/PaddleOCR/train_data\n",
        "!cp /content/drive/MyDrive/dataset_mini/val -r /content/PaddleOCR/train_data"
      ],
      "metadata": {
        "id": "r1HT9xiS5NCm"
      },
      "execution_count": 4,
      "outputs": []
    },
    {
      "cell_type": "code",
      "source": [
        "!cp /content/drive/MyDrive/dataset_mini/train.txt -r /content/PaddleOCR/train_data\n",
        "!cp /content/drive/MyDrive/dataset_mini/val.txt -r /content/PaddleOCR/train_data"
      ],
      "metadata": {
        "id": "Gho9E3I05qWR"
      },
      "execution_count": 5,
      "outputs": []
    },
    {
      "cell_type": "markdown",
      "source": [
        "#start train"
      ],
      "metadata": {
        "id": "VK6OGkob6zL1"
      }
    },
    {
      "cell_type": "code",
      "source": [
        "import cv2 \n",
        "import os \n",
        "#from imutils import perspective\n",
        "import numpy as np \n",
        "import json\n",
        "from tqdm import tqdm\n",
        "import matplotlib.pyplot as plt\n",
        "from imutils import perspective"
      ],
      "metadata": {
        "id": "DB0S-L086ysm"
      },
      "execution_count": 6,
      "outputs": []
    },
    {
      "cell_type": "code",
      "source": [
        "%cd /content/PaddleOCR"
      ],
      "metadata": {
        "colab": {
          "base_uri": "https://localhost:8080/"
        },
        "id": "Z29gst9O_6iu",
        "outputId": "23bedf6c-0c68-47d2-8f48-38e0e2f1cc69"
      },
      "execution_count": 1,
      "outputs": [
        {
          "output_type": "stream",
          "name": "stdout",
          "text": [
            "/content/PaddleOCR\n"
          ]
        }
      ]
    },
    {
      "cell_type": "code",
      "source": [
        "!python3 tools/train.py -c /content/PaddleOCR/pretrained_model/rec_r34_vd_none_bilstm_ctc_v2.0_train/rec_r34_vd_none_bilstm_ctc.yml -o Global.pretrained_model=/content/PaddleOCR/pretrained_model/rec_r34_vd_none_bilstm_ctc_v2.0_train/best_accuracy"
      ],
      "metadata": {
        "id": "uZ-igkPS_9wl",
        "colab": {
          "base_uri": "https://localhost:8080/"
        },
        "outputId": "ea9baefa-0290-4b35-9920-df515db96324"
      },
      "execution_count": 6,
      "outputs": [
        {
          "output_type": "stream",
          "name": "stdout",
          "text": [
            "[2023/02/12 13:00:43] ppocr INFO: Architecture : \n",
            "[2023/02/12 13:00:43] ppocr INFO:     Backbone : \n",
            "[2023/02/12 13:00:43] ppocr INFO:         layers : 34\n",
            "[2023/02/12 13:00:43] ppocr INFO:         name : ResNet\n",
            "[2023/02/12 13:00:43] ppocr INFO:     Head : \n",
            "[2023/02/12 13:00:43] ppocr INFO:         fc_decay : 0\n",
            "[2023/02/12 13:00:43] ppocr INFO:         name : CTCHead\n",
            "[2023/02/12 13:00:43] ppocr INFO:     Neck : \n",
            "[2023/02/12 13:00:43] ppocr INFO:         encoder_type : rnn\n",
            "[2023/02/12 13:00:43] ppocr INFO:         hidden_size : 256\n",
            "[2023/02/12 13:00:43] ppocr INFO:         name : SequenceEncoder\n",
            "[2023/02/12 13:00:43] ppocr INFO:     Transform : None\n",
            "[2023/02/12 13:00:43] ppocr INFO:     algorithm : CRNN\n",
            "[2023/02/12 13:00:43] ppocr INFO:     model_type : rec\n",
            "[2023/02/12 13:00:43] ppocr INFO: Eval : \n",
            "[2023/02/12 13:00:43] ppocr INFO:     dataset : \n",
            "[2023/02/12 13:00:43] ppocr INFO:         data_dir : /content/PaddleOCR/train_data/val/\n",
            "[2023/02/12 13:00:43] ppocr INFO:         label_file_list : ['/content/PaddleOCR/train_data/val.txt']\n",
            "[2023/02/12 13:00:43] ppocr INFO:         name : SimpleDataSet\n",
            "[2023/02/12 13:00:43] ppocr INFO:         transforms : \n",
            "[2023/02/12 13:00:43] ppocr INFO:             DecodeImage : \n",
            "[2023/02/12 13:00:43] ppocr INFO:                 channel_first : False\n",
            "[2023/02/12 13:00:43] ppocr INFO:                 img_mode : BGR\n",
            "[2023/02/12 13:00:43] ppocr INFO:             CTCLabelEncode : None\n",
            "[2023/02/12 13:00:43] ppocr INFO:             RecResizeImg : \n",
            "[2023/02/12 13:00:43] ppocr INFO:                 image_shape : [3, 30, 450]\n",
            "[2023/02/12 13:00:43] ppocr INFO:             KeepKeys : \n",
            "[2023/02/12 13:00:43] ppocr INFO:                 keep_keys : ['image', 'label', 'length']\n",
            "[2023/02/12 13:00:43] ppocr INFO:     loader : \n",
            "[2023/02/12 13:00:43] ppocr INFO:         batch_size_per_card : 128\n",
            "[2023/02/12 13:00:43] ppocr INFO:         drop_last : False\n",
            "[2023/02/12 13:00:43] ppocr INFO:         num_workers : 4\n",
            "[2023/02/12 13:00:43] ppocr INFO:         shuffle : False\n",
            "[2023/02/12 13:00:43] ppocr INFO: Global : \n",
            "[2023/02/12 13:00:43] ppocr INFO:     cal_metric_during_train : True\n",
            "[2023/02/12 13:00:43] ppocr INFO:     character_dict_path : /content/char.txt\n",
            "[2023/02/12 13:00:43] ppocr INFO:     checkpoints : None\n",
            "[2023/02/12 13:00:43] ppocr INFO:     distributed : False\n",
            "[2023/02/12 13:00:43] ppocr INFO:     epoch_num : 72\n",
            "[2023/02/12 13:00:43] ppocr INFO:     eval_batch_step : [0, 200]\n",
            "[2023/02/12 13:00:43] ppocr INFO:     infer_img : None\n",
            "[2023/02/12 13:00:43] ppocr INFO:     infer_mode : False\n",
            "[2023/02/12 13:00:43] ppocr INFO:     log_smooth_window : 20\n",
            "[2023/02/12 13:00:43] ppocr INFO:     max_text_length : 25\n",
            "[2023/02/12 13:00:43] ppocr INFO:     pretrained_model : /content/PaddleOCR/pretrained_model/rec_r34_vd_none_bilstm_ctc_v2.0_train/best_accuracy\n",
            "[2023/02/12 13:00:43] ppocr INFO:     print_batch_step : 10\n",
            "[2023/02/12 13:00:43] ppocr INFO:     save_epoch_step : 10\n",
            "[2023/02/12 13:00:43] ppocr INFO:     save_inference_dir : ./\n",
            "[2023/02/12 13:00:43] ppocr INFO:     save_model_dir : /content/drive/MyDrive/output_IDPL-3\n",
            "[2023/02/12 13:00:43] ppocr INFO:     save_res_path : /content/drive/MyDrive/output_IDPL-3/rec/predicts_r34_vd_none_bilstm_ctc.txt\n",
            "[2023/02/12 13:00:43] ppocr INFO:     use_gpu : True\n",
            "[2023/02/12 13:00:43] ppocr INFO:     use_space_char : False\n",
            "[2023/02/12 13:00:43] ppocr INFO:     use_visualdl : False\n",
            "[2023/02/12 13:00:43] ppocr INFO: Loss : \n",
            "[2023/02/12 13:00:43] ppocr INFO:     name : CTCLoss\n",
            "[2023/02/12 13:00:43] ppocr INFO: Metric : \n",
            "[2023/02/12 13:00:43] ppocr INFO:     main_indicator : acc\n",
            "[2023/02/12 13:00:43] ppocr INFO:     name : RecMetric\n",
            "[2023/02/12 13:00:43] ppocr INFO: Optimizer : \n",
            "[2023/02/12 13:00:43] ppocr INFO:     beta1 : 0.9\n",
            "[2023/02/12 13:00:43] ppocr INFO:     beta2 : 0.999\n",
            "[2023/02/12 13:00:43] ppocr INFO:     lr : \n",
            "[2023/02/12 13:00:43] ppocr INFO:         learning_rate : 0.0005\n",
            "[2023/02/12 13:00:43] ppocr INFO:     name : Adam\n",
            "[2023/02/12 13:00:43] ppocr INFO:     regularizer : \n",
            "[2023/02/12 13:00:43] ppocr INFO:         factor : 0\n",
            "[2023/02/12 13:00:43] ppocr INFO:         name : L2\n",
            "[2023/02/12 13:00:43] ppocr INFO: PostProcess : \n",
            "[2023/02/12 13:00:43] ppocr INFO:     name : CTCLabelDecode\n",
            "[2023/02/12 13:00:43] ppocr INFO: Train : \n",
            "[2023/02/12 13:00:43] ppocr INFO:     dataset : \n",
            "[2023/02/12 13:00:43] ppocr INFO:         data_dir : /content/PaddleOCR/train_data/train/\n",
            "[2023/02/12 13:00:43] ppocr INFO:         label_file_list : ['/content/PaddleOCR/train_data/train.txt']\n",
            "[2023/02/12 13:00:43] ppocr INFO:         name : SimpleDataSet\n",
            "[2023/02/12 13:00:43] ppocr INFO:         transforms : \n",
            "[2023/02/12 13:00:43] ppocr INFO:             DecodeImage : \n",
            "[2023/02/12 13:00:43] ppocr INFO:                 channel_first : False\n",
            "[2023/02/12 13:00:43] ppocr INFO:                 img_mode : BGR\n",
            "[2023/02/12 13:00:43] ppocr INFO:             CTCLabelEncode : None\n",
            "[2023/02/12 13:00:43] ppocr INFO:             RecResizeImg : \n",
            "[2023/02/12 13:00:43] ppocr INFO:                 image_shape : [3, 30, 450]\n",
            "[2023/02/12 13:00:43] ppocr INFO:             KeepKeys : \n",
            "[2023/02/12 13:00:43] ppocr INFO:                 keep_keys : ['image', 'label', 'length']\n",
            "[2023/02/12 13:00:43] ppocr INFO:     loader : \n",
            "[2023/02/12 13:00:43] ppocr INFO:         batch_size_per_card : 128\n",
            "[2023/02/12 13:00:43] ppocr INFO:         drop_last : True\n",
            "[2023/02/12 13:00:43] ppocr INFO:         num_workers : 8\n",
            "[2023/02/12 13:00:43] ppocr INFO:         shuffle : True\n",
            "[2023/02/12 13:00:43] ppocr INFO: profiler_options : None\n",
            "[2023/02/12 13:00:43] ppocr INFO: train with paddle 2.4.1 and device Place(gpu:0)\n",
            "[2023/02/12 13:00:43] ppocr INFO: Initialize indexs of datasets:['/content/PaddleOCR/train_data/train.txt']\n",
            "[2023/02/12 13:00:43] ppocr INFO: Initialize indexs of datasets:['/content/PaddleOCR/train_data/val.txt']\n",
            "W0212 13:00:43.943096 19059 gpu_resources.cc:61] Please NOTE: device: 0, GPU Compute Capability: 7.5, Driver API Version: 11.6, Runtime API Version: 11.6\n",
            "W0212 13:00:44.055053 19059 gpu_resources.cc:91] device: 0, cuDNN Version: 8.4.\n",
            "[2023/02/12 13:00:46] ppocr INFO: train dataloader has 2 iters\n",
            "[2023/02/12 13:00:46] ppocr INFO: valid dataloader has 1 iters\n",
            "[2023/02/12 13:00:47] ppocr WARNING: The shape of model params head.fc.bias [39] not matched with loaded params head.fc.bias [37] !\n",
            "[2023/02/12 13:00:47] ppocr WARNING: The shape of model params head.fc.weight [512, 39] not matched with loaded params head.fc.weight [512, 37] !\n",
            "[2023/02/12 13:00:47] ppocr INFO: load pretrain successful from /content/PaddleOCR/pretrained_model/rec_r34_vd_none_bilstm_ctc_v2.0_train/best_accuracy\n",
            "[2023/02/12 13:00:47] ppocr INFO: During the training process, after the 0th iteration, an evaluation is run every 200 iterations\n",
            "[2023/02/12 13:01:03] ppocr INFO: epoch: [1/72], global_step: 2, lr: 0.000500, acc: 0.000000, norm_edit_dis: 0.053610, loss: 343.983521, avg_reader_cost: 0.03583 s, avg_batch_cost: 1.66950 s, avg_samples: 25.6, ips: 15.33391 samples/s, eta: 0:19:45\n",
            "[2023/02/12 13:01:05] ppocr INFO: save model in /content/drive/MyDrive/output_IDPL-3/latest\n",
            "[2023/02/12 13:01:14] ppocr INFO: epoch: [2/72], global_step: 4, lr: 0.000500, acc: 0.000000, norm_edit_dis: 0.061677, loss: 329.464722, avg_reader_cost: 0.16500 s, avg_batch_cost: 1.05081 s, avg_samples: 25.6, ips: 24.36214 samples/s, eta: 0:15:52\n",
            "[2023/02/12 13:01:16] ppocr INFO: save model in /content/drive/MyDrive/output_IDPL-3/latest\n",
            "[2023/02/12 13:01:26] ppocr INFO: epoch: [3/72], global_step: 6, lr: 0.000500, acc: 0.000000, norm_edit_dis: 0.059934, loss: 310.941162, avg_reader_cost: 0.27863 s, avg_batch_cost: 1.17907 s, avg_samples: 25.6, ips: 21.71202 samples/s, eta: 0:14:56\n",
            "[2023/02/12 13:01:27] ppocr INFO: save model in /content/drive/MyDrive/output_IDPL-3/latest\n",
            "[2023/02/12 13:01:37] ppocr INFO: epoch: [4/72], global_step: 8, lr: 0.000500, acc: 0.000000, norm_edit_dis: 0.054694, loss: 291.045685, avg_reader_cost: 0.17025 s, avg_batch_cost: 1.08354 s, avg_samples: 25.6, ips: 23.62627 samples/s, eta: 0:14:07\n",
            "[2023/02/12 13:01:38] ppocr INFO: save model in /content/drive/MyDrive/output_IDPL-3/latest\n",
            "[2023/02/12 13:01:48] ppocr INFO: epoch: [5/72], global_step: 10, lr: 0.000500, acc: 0.000000, norm_edit_dis: 0.046628, loss: 270.304047, avg_reader_cost: 0.17844 s, avg_batch_cost: 1.11174 s, avg_samples: 25.6, ips: 23.02705 samples/s, eta: 0:13:36\n",
            "[2023/02/12 13:01:49] ppocr INFO: save model in /content/drive/MyDrive/output_IDPL-3/latest\n",
            "[2023/02/12 13:02:00] ppocr INFO: epoch: [6/72], global_step: 12, lr: 0.000500, acc: 0.000000, norm_edit_dis: 0.037369, loss: 248.054016, avg_reader_cost: 0.24565 s, avg_batch_cost: 1.18655 s, avg_samples: 25.6, ips: 21.57513 samples/s, eta: 0:13:20\n",
            "[2023/02/12 13:02:01] ppocr INFO: save model in /content/drive/MyDrive/output_IDPL-3/latest\n",
            "[2023/02/12 13:02:11] ppocr INFO: epoch: [7/72], global_step: 14, lr: 0.000500, acc: 0.000000, norm_edit_dis: 0.019212, loss: 225.129135, avg_reader_cost: 0.17788 s, avg_batch_cost: 1.12364 s, avg_samples: 25.6, ips: 22.78303 samples/s, eta: 0:13:00\n",
            "[2023/02/12 13:02:12] ppocr INFO: save model in /content/drive/MyDrive/output_IDPL-3/latest\n",
            "[2023/02/12 13:02:22] ppocr INFO: epoch: [8/72], global_step: 16, lr: 0.000500, acc: 0.000000, norm_edit_dis: 0.004371, loss: 201.356873, avg_reader_cost: 0.20358 s, avg_batch_cost: 1.14421 s, avg_samples: 25.6, ips: 22.37343 samples/s, eta: 0:12:43\n",
            "[2023/02/12 13:02:24] ppocr INFO: save model in /content/drive/MyDrive/output_IDPL-3/latest\n",
            "[2023/02/12 13:02:34] ppocr INFO: epoch: [9/72], global_step: 18, lr: 0.000500, acc: 0.000000, norm_edit_dis: 0.001618, loss: 176.701996, avg_reader_cost: 0.24402 s, avg_batch_cost: 1.17263 s, avg_samples: 25.6, ips: 21.83118 samples/s, eta: 0:12:30\n",
            "[2023/02/12 13:02:35] ppocr INFO: save model in /content/drive/MyDrive/output_IDPL-3/latest\n",
            "[2023/02/12 13:02:45] ppocr INFO: epoch: [10/72], global_step: 20, lr: 0.000500, acc: 0.000000, norm_edit_dis: 0.000781, loss: 152.584030, avg_reader_cost: 0.16802 s, avg_batch_cost: 1.08904 s, avg_samples: 25.6, ips: 23.50685 samples/s, eta: 0:12:12\n",
            "[2023/02/12 13:02:46] ppocr INFO: save model in /content/drive/MyDrive/output_IDPL-3/latest\n",
            "[2023/02/12 13:02:48] ppocr INFO: save model in /content/drive/MyDrive/output_IDPL-3/iter_epoch_10\n",
            "[2023/02/12 13:02:57] ppocr INFO: epoch: [11/72], global_step: 22, lr: 0.000500, acc: 0.000000, norm_edit_dis: 0.000000, loss: 106.387909, avg_reader_cost: 0.32403 s, avg_batch_cost: 1.25396 s, avg_samples: 25.6, ips: 20.41526 samples/s, eta: 0:12:04\n",
            "[2023/02/12 13:02:59] ppocr INFO: save model in /content/drive/MyDrive/output_IDPL-3/latest\n",
            "[2023/02/12 13:03:09] ppocr INFO: epoch: [12/72], global_step: 24, lr: 0.000500, acc: 0.000000, norm_edit_dis: 0.000000, loss: 71.107452, avg_reader_cost: 0.23860 s, avg_batch_cost: 1.17075 s, avg_samples: 25.6, ips: 21.86641 samples/s, eta: 0:11:51\n",
            "[2023/02/12 13:03:10] ppocr INFO: save model in /content/drive/MyDrive/output_IDPL-3/latest\n",
            "[2023/02/12 13:03:20] ppocr INFO: epoch: [13/72], global_step: 26, lr: 0.000500, acc: 0.000000, norm_edit_dis: 0.000000, loss: 49.993401, avg_reader_cost: 0.18777 s, avg_batch_cost: 1.12843 s, avg_samples: 25.6, ips: 22.68648 samples/s, eta: 0:11:37\n",
            "[2023/02/12 13:03:22] ppocr INFO: save model in /content/drive/MyDrive/output_IDPL-3/latest\n",
            "[2023/02/12 13:03:32] ppocr INFO: epoch: [14/72], global_step: 28, lr: 0.000500, acc: 0.000000, norm_edit_dis: 0.000000, loss: 39.518547, avg_reader_cost: 0.20943 s, avg_batch_cost: 1.15208 s, avg_samples: 25.6, ips: 22.22069 samples/s, eta: 0:11:24\n",
            "[2023/02/12 13:03:34] ppocr INFO: save model in /content/drive/MyDrive/output_IDPL-3/latest\n",
            "[2023/02/12 13:03:44] ppocr INFO: epoch: [15/72], global_step: 30, lr: 0.000500, acc: 0.000000, norm_edit_dis: 0.000000, loss: 37.626907, avg_reader_cost: 0.23910 s, avg_batch_cost: 1.16834 s, avg_samples: 25.6, ips: 21.91142 samples/s, eta: 0:11:12\n",
            "[2023/02/12 13:03:45] ppocr INFO: save model in /content/drive/MyDrive/output_IDPL-3/latest\n",
            "[2023/02/12 13:03:55] ppocr INFO: epoch: [16/72], global_step: 32, lr: 0.000500, acc: 0.000000, norm_edit_dis: 0.000000, loss: 37.063675, avg_reader_cost: 0.20330 s, avg_batch_cost: 1.13371 s, avg_samples: 25.6, ips: 22.58077 samples/s, eta: 0:10:58\n",
            "[2023/02/12 13:03:56] ppocr INFO: save model in /content/drive/MyDrive/output_IDPL-3/latest\n",
            "[2023/02/12 13:04:06] ppocr INFO: epoch: [17/72], global_step: 34, lr: 0.000500, acc: 0.000000, norm_edit_dis: 0.000000, loss: 36.549183, avg_reader_cost: 0.16880 s, avg_batch_cost: 1.10280 s, avg_samples: 25.6, ips: 23.21371 samples/s, eta: 0:10:44\n",
            "[2023/02/12 13:04:08] ppocr INFO: save model in /content/drive/MyDrive/output_IDPL-3/latest\n",
            "[2023/02/12 13:04:17] ppocr INFO: epoch: [18/72], global_step: 36, lr: 0.000500, acc: 0.000000, norm_edit_dis: 0.000000, loss: 36.066460, avg_reader_cost: 0.20770 s, avg_batch_cost: 1.13810 s, avg_samples: 25.6, ips: 22.49355 samples/s, eta: 0:10:31\n",
            "[2023/02/12 13:04:19] ppocr INFO: save model in /content/drive/MyDrive/output_IDPL-3/latest\n",
            "[2023/02/12 13:04:29] ppocr INFO: epoch: [19/72], global_step: 38, lr: 0.000500, acc: 0.000000, norm_edit_dis: 0.000000, loss: 35.775879, avg_reader_cost: 0.25006 s, avg_batch_cost: 1.18185 s, avg_samples: 25.6, ips: 21.66098 samples/s, eta: 0:10:20\n",
            "[2023/02/12 13:04:30] ppocr INFO: save model in /content/drive/MyDrive/output_IDPL-3/latest\n",
            "[2023/02/12 13:04:40] ppocr INFO: epoch: [20/72], global_step: 40, lr: 0.000500, acc: 0.000000, norm_edit_dis: 0.000000, loss: 34.802505, avg_reader_cost: 0.16122 s, avg_batch_cost: 1.09582 s, avg_samples: 25.6, ips: 23.36145 samples/s, eta: 0:10:06\n",
            "[2023/02/12 13:04:42] ppocr INFO: save model in /content/drive/MyDrive/output_IDPL-3/latest\n",
            "[2023/02/12 13:04:43] ppocr INFO: save model in /content/drive/MyDrive/output_IDPL-3/iter_epoch_20\n",
            "[2023/02/12 13:04:53] ppocr INFO: epoch: [21/72], global_step: 42, lr: 0.000500, acc: 0.000000, norm_edit_dis: 0.000000, loss: 34.523540, avg_reader_cost: 0.32063 s, avg_batch_cost: 1.25344 s, avg_samples: 25.6, ips: 20.42387 samples/s, eta: 0:09:57\n",
            "[2023/02/12 13:04:55] ppocr INFO: save model in /content/drive/MyDrive/output_IDPL-3/latest\n",
            "[2023/02/12 13:05:05] ppocr INFO: epoch: [22/72], global_step: 44, lr: 0.000500, acc: 0.000000, norm_edit_dis: 0.000000, loss: 34.017021, avg_reader_cost: 0.25246 s, avg_batch_cost: 1.18725 s, avg_samples: 25.6, ips: 21.56251 samples/s, eta: 0:09:45\n",
            "[2023/02/12 13:05:06] ppocr INFO: save model in /content/drive/MyDrive/output_IDPL-3/latest\n",
            "[2023/02/12 13:05:16] ppocr INFO: epoch: [23/72], global_step: 46, lr: 0.000500, acc: 0.000000, norm_edit_dis: 0.000000, loss: 33.601124, avg_reader_cost: 0.17134 s, avg_batch_cost: 1.10134 s, avg_samples: 25.6, ips: 23.24434 samples/s, eta: 0:09:32\n",
            "[2023/02/12 13:05:17] ppocr INFO: save model in /content/drive/MyDrive/output_IDPL-3/latest\n",
            "[2023/02/12 13:05:27] ppocr INFO: epoch: [24/72], global_step: 48, lr: 0.000500, acc: 0.000000, norm_edit_dis: 0.000000, loss: 33.270584, avg_reader_cost: 0.21964 s, avg_batch_cost: 1.15117 s, avg_samples: 25.6, ips: 22.23818 samples/s, eta: 0:09:20\n",
            "[2023/02/12 13:05:29] ppocr INFO: save model in /content/drive/MyDrive/output_IDPL-3/latest\n",
            "[2023/02/12 13:05:39] ppocr INFO: epoch: [25/72], global_step: 50, lr: 0.000500, acc: 0.000000, norm_edit_dis: 0.000000, loss: 33.074146, avg_reader_cost: 0.24926 s, avg_batch_cost: 1.18272 s, avg_samples: 25.6, ips: 21.64499 samples/s, eta: 0:09:09\n",
            "[2023/02/12 13:05:40] ppocr INFO: save model in /content/drive/MyDrive/output_IDPL-3/latest\n",
            "[2023/02/12 13:05:50] ppocr INFO: epoch: [26/72], global_step: 52, lr: 0.000500, acc: 0.000000, norm_edit_dis: 0.000000, loss: 32.956600, avg_reader_cost: 0.16479 s, avg_batch_cost: 1.09582 s, avg_samples: 25.6, ips: 23.36154 samples/s, eta: 0:08:56\n",
            "[2023/02/12 13:05:51] ppocr INFO: save model in /content/drive/MyDrive/output_IDPL-3/latest\n",
            "[2023/02/12 13:06:01] ppocr INFO: epoch: [27/72], global_step: 54, lr: 0.000500, acc: 0.000000, norm_edit_dis: 0.000000, loss: 32.827576, avg_reader_cost: 0.17505 s, avg_batch_cost: 1.11023 s, avg_samples: 25.6, ips: 23.05829 samples/s, eta: 0:08:43\n",
            "[2023/02/12 13:06:03] ppocr INFO: save model in /content/drive/MyDrive/output_IDPL-3/latest\n",
            "[2023/02/12 13:06:13] ppocr INFO: epoch: [28/72], global_step: 56, lr: 0.000500, acc: 0.000000, norm_edit_dis: 0.000000, loss: 32.664803, avg_reader_cost: 0.22099 s, avg_batch_cost: 1.15233 s, avg_samples: 25.6, ips: 22.21585 samples/s, eta: 0:08:31\n",
            "[2023/02/12 13:06:14] ppocr INFO: save model in /content/drive/MyDrive/output_IDPL-3/latest\n",
            "[2023/02/12 13:06:24] ppocr INFO: epoch: [29/72], global_step: 58, lr: 0.000500, acc: 0.000000, norm_edit_dis: 0.000000, loss: 32.480835, avg_reader_cost: 0.18525 s, avg_batch_cost: 1.11735 s, avg_samples: 25.6, ips: 22.91141 samples/s, eta: 0:08:19\n",
            "[2023/02/12 13:06:25] ppocr INFO: save model in /content/drive/MyDrive/output_IDPL-3/latest\n",
            "[2023/02/12 13:06:35] ppocr INFO: epoch: [30/72], global_step: 60, lr: 0.000500, acc: 0.000000, norm_edit_dis: 0.000000, loss: 32.351837, avg_reader_cost: 0.17040 s, avg_batch_cost: 1.10507 s, avg_samples: 25.6, ips: 23.16586 samples/s, eta: 0:08:07\n",
            "[2023/02/12 13:06:36] ppocr INFO: save model in /content/drive/MyDrive/output_IDPL-3/latest\n",
            "[2023/02/12 13:06:38] ppocr INFO: save model in /content/drive/MyDrive/output_IDPL-3/iter_epoch_30\n",
            "[2023/02/12 13:06:48] ppocr INFO: epoch: [31/72], global_step: 62, lr: 0.000500, acc: 0.000000, norm_edit_dis: 0.000000, loss: 32.073841, avg_reader_cost: 0.35163 s, avg_batch_cost: 1.28365 s, avg_samples: 25.6, ips: 19.94307 samples/s, eta: 0:07:57\n",
            "[2023/02/12 13:06:49] ppocr INFO: save model in /content/drive/MyDrive/output_IDPL-3/latest\n",
            "[2023/02/12 13:06:59] ppocr INFO: epoch: [32/72], global_step: 64, lr: 0.000500, acc: 0.000000, norm_edit_dis: 0.000000, loss: 32.043617, avg_reader_cost: 0.20435 s, avg_batch_cost: 1.13884 s, avg_samples: 25.6, ips: 22.47898 samples/s, eta: 0:07:45\n",
            "[2023/02/12 13:07:00] ppocr INFO: save model in /content/drive/MyDrive/output_IDPL-3/latest\n",
            "[2023/02/12 13:07:10] ppocr INFO: epoch: [33/72], global_step: 66, lr: 0.000500, acc: 0.000000, norm_edit_dis: 0.000000, loss: 31.996042, avg_reader_cost: 0.17210 s, avg_batch_cost: 1.10347 s, avg_samples: 25.6, ips: 23.19946 samples/s, eta: 0:07:32\n",
            "[2023/02/12 13:07:12] ppocr INFO: save model in /content/drive/MyDrive/output_IDPL-3/latest\n",
            "[2023/02/12 13:07:22] ppocr INFO: epoch: [34/72], global_step: 68, lr: 0.000500, acc: 0.000000, norm_edit_dis: 0.000000, loss: 31.904190, avg_reader_cost: 0.28258 s, avg_batch_cost: 1.21833 s, avg_samples: 25.6, ips: 21.01235 samples/s, eta: 0:07:21\n",
            "[2023/02/12 13:07:24] ppocr INFO: save model in /content/drive/MyDrive/output_IDPL-3/latest\n",
            "[2023/02/12 13:07:34] ppocr INFO: epoch: [35/72], global_step: 70, lr: 0.000500, acc: 0.000000, norm_edit_dis: 0.000000, loss: 31.842064, avg_reader_cost: 0.22873 s, avg_batch_cost: 1.16019 s, avg_samples: 25.6, ips: 22.06530 samples/s, eta: 0:07:10\n",
            "[2023/02/12 13:07:35] ppocr INFO: save model in /content/drive/MyDrive/output_IDPL-3/latest\n",
            "[2023/02/12 13:07:45] ppocr INFO: epoch: [36/72], global_step: 72, lr: 0.000500, acc: 0.000000, norm_edit_dis: 0.000000, loss: 31.842064, avg_reader_cost: 0.16377 s, avg_batch_cost: 1.09504 s, avg_samples: 25.6, ips: 23.37817 samples/s, eta: 0:06:57\n",
            "[2023/02/12 13:07:46] ppocr INFO: save model in /content/drive/MyDrive/output_IDPL-3/latest\n",
            "[2023/02/12 13:07:56] ppocr INFO: epoch: [37/72], global_step: 74, lr: 0.000500, acc: 0.000000, norm_edit_dis: 0.000000, loss: 31.842064, avg_reader_cost: 0.20994 s, avg_batch_cost: 1.14489 s, avg_samples: 25.6, ips: 22.36018 samples/s, eta: 0:06:46\n",
            "[2023/02/12 13:07:58] ppocr INFO: save model in /content/drive/MyDrive/output_IDPL-3/latest\n",
            "[2023/02/12 13:08:08] ppocr INFO: epoch: [38/72], global_step: 76, lr: 0.000500, acc: 0.000000, norm_edit_dis: 0.000000, loss: 31.842064, avg_reader_cost: 0.22109 s, avg_batch_cost: 1.15622 s, avg_samples: 25.6, ips: 22.14111 samples/s, eta: 0:06:34\n",
            "[2023/02/12 13:08:09] ppocr INFO: save model in /content/drive/MyDrive/output_IDPL-3/latest\n",
            "[2023/02/12 13:08:19] ppocr INFO: epoch: [39/72], global_step: 78, lr: 0.000500, acc: 0.000000, norm_edit_dis: 0.000000, loss: 31.839924, avg_reader_cost: 0.21299 s, avg_batch_cost: 1.14771 s, avg_samples: 25.6, ips: 22.30537 samples/s, eta: 0:06:22\n",
            "[2023/02/12 13:08:21] ppocr INFO: save model in /content/drive/MyDrive/output_IDPL-3/latest\n",
            "[2023/02/12 13:08:30] ppocr INFO: epoch: [40/72], global_step: 80, lr: 0.000500, acc: 0.000000, norm_edit_dis: 0.000000, loss: 31.839924, avg_reader_cost: 0.17157 s, avg_batch_cost: 1.10273 s, avg_samples: 25.6, ips: 23.21509 samples/s, eta: 0:06:10\n",
            "[2023/02/12 13:08:32] ppocr INFO: save model in /content/drive/MyDrive/output_IDPL-3/latest\n",
            "[2023/02/12 13:08:33] ppocr INFO: save model in /content/drive/MyDrive/output_IDPL-3/iter_epoch_40\n",
            "[2023/02/12 13:08:43] ppocr INFO: epoch: [41/72], global_step: 82, lr: 0.000500, acc: 0.000000, norm_edit_dis: 0.000000, loss: 31.803268, avg_reader_cost: 0.37509 s, avg_batch_cost: 1.30806 s, avg_samples: 25.6, ips: 19.57103 samples/s, eta: 0:06:00\n",
            "[2023/02/12 13:08:45] ppocr INFO: save model in /content/drive/MyDrive/output_IDPL-3/latest\n",
            "[2023/02/12 13:08:54] ppocr INFO: epoch: [42/72], global_step: 84, lr: 0.000500, acc: 0.000000, norm_edit_dis: 0.000000, loss: 31.748135, avg_reader_cost: 0.16413 s, avg_batch_cost: 1.09769 s, avg_samples: 25.6, ips: 23.32169 samples/s, eta: 0:05:48\n",
            "[2023/02/12 13:08:56] ppocr INFO: save model in /content/drive/MyDrive/output_IDPL-3/latest\n",
            "[2023/02/12 13:09:06] ppocr INFO: epoch: [43/72], global_step: 86, lr: 0.000500, acc: 0.000000, norm_edit_dis: 0.000000, loss: 31.748135, avg_reader_cost: 0.19295 s, avg_batch_cost: 1.12986 s, avg_samples: 25.6, ips: 22.65770 samples/s, eta: 0:05:36\n",
            "[2023/02/12 13:09:08] ppocr INFO: save model in /content/drive/MyDrive/output_IDPL-3/latest\n",
            "[2023/02/12 13:09:18] ppocr INFO: epoch: [44/72], global_step: 88, lr: 0.000500, acc: 0.000000, norm_edit_dis: 0.000000, loss: 31.686243, avg_reader_cost: 0.28420 s, avg_batch_cost: 1.21393 s, avg_samples: 25.6, ips: 21.08855 samples/s, eta: 0:05:25\n",
            "[2023/02/12 13:09:19] ppocr INFO: save model in /content/drive/MyDrive/output_IDPL-3/latest\n",
            "[2023/02/12 13:09:29] ppocr INFO: epoch: [45/72], global_step: 90, lr: 0.000500, acc: 0.000000, norm_edit_dis: 0.000000, loss: 31.686243, avg_reader_cost: 0.21762 s, avg_batch_cost: 1.14988 s, avg_samples: 25.6, ips: 22.26323 samples/s, eta: 0:05:13\n",
            "[2023/02/12 13:09:31] ppocr INFO: save model in /content/drive/MyDrive/output_IDPL-3/latest\n",
            "[2023/02/12 13:09:40] ppocr INFO: epoch: [46/72], global_step: 92, lr: 0.000500, acc: 0.000000, norm_edit_dis: 0.000000, loss: 31.594872, avg_reader_cost: 0.16778 s, avg_batch_cost: 1.09973 s, avg_samples: 25.6, ips: 23.27838 samples/s, eta: 0:05:01\n",
            "[2023/02/12 13:09:42] ppocr INFO: save model in /content/drive/MyDrive/output_IDPL-3/latest\n",
            "[2023/02/12 13:09:52] ppocr INFO: epoch: [47/72], global_step: 94, lr: 0.000500, acc: 0.000000, norm_edit_dis: 0.000000, loss: 31.531439, avg_reader_cost: 0.21488 s, avg_batch_cost: 1.14360 s, avg_samples: 25.6, ips: 22.38546 samples/s, eta: 0:04:49\n",
            "[2023/02/12 13:09:54] ppocr INFO: save model in /content/drive/MyDrive/output_IDPL-3/latest\n",
            "[2023/02/12 13:10:04] ppocr INFO: epoch: [48/72], global_step: 96, lr: 0.000500, acc: 0.000000, norm_edit_dis: 0.000000, loss: 31.531439, avg_reader_cost: 0.25264 s, avg_batch_cost: 1.18575 s, avg_samples: 25.6, ips: 21.58971 samples/s, eta: 0:04:38\n",
            "[2023/02/12 13:10:05] ppocr INFO: save model in /content/drive/MyDrive/output_IDPL-3/latest\n",
            "[2023/02/12 13:10:15] ppocr INFO: epoch: [49/72], global_step: 98, lr: 0.000500, acc: 0.000000, norm_edit_dis: 0.000000, loss: 31.531439, avg_reader_cost: 0.17060 s, avg_batch_cost: 1.10218 s, avg_samples: 25.6, ips: 23.22667 samples/s, eta: 0:04:26\n",
            "[2023/02/12 13:10:16] ppocr INFO: save model in /content/drive/MyDrive/output_IDPL-3/latest\n",
            "[2023/02/12 13:10:26] ppocr INFO: epoch: [50/72], global_step: 100, lr: 0.000500, acc: 0.000000, norm_edit_dis: 0.000000, loss: 31.410217, avg_reader_cost: 0.20800 s, avg_batch_cost: 1.13967 s, avg_samples: 25.6, ips: 22.46274 samples/s, eta: 0:04:14\n",
            "[2023/02/12 13:10:28] ppocr INFO: save model in /content/drive/MyDrive/output_IDPL-3/latest\n",
            "[2023/02/12 13:10:29] ppocr INFO: save model in /content/drive/MyDrive/output_IDPL-3/iter_epoch_50\n",
            "[2023/02/12 13:10:39] ppocr INFO: epoch: [51/72], global_step: 102, lr: 0.000500, acc: 0.000000, norm_edit_dis: 0.000000, loss: 31.410217, avg_reader_cost: 0.37301 s, avg_batch_cost: 1.30133 s, avg_samples: 25.6, ips: 19.67213 samples/s, eta: 0:04:03\n",
            "[2023/02/12 13:10:40] ppocr INFO: save model in /content/drive/MyDrive/output_IDPL-3/latest\n",
            "[2023/02/12 13:10:50] ppocr INFO: epoch: [52/72], global_step: 104, lr: 0.000500, acc: 0.000000, norm_edit_dis: 0.000000, loss: 31.318016, avg_reader_cost: 0.17838 s, avg_batch_cost: 1.11182 s, avg_samples: 25.6, ips: 23.02540 samples/s, eta: 0:03:52\n",
            "[2023/02/12 13:10:51] ppocr INFO: save model in /content/drive/MyDrive/output_IDPL-3/latest\n",
            "[2023/02/12 13:11:01] ppocr INFO: epoch: [53/72], global_step: 106, lr: 0.000500, acc: 0.000000, norm_edit_dis: 0.000000, loss: 31.318016, avg_reader_cost: 0.18206 s, avg_batch_cost: 1.11694 s, avg_samples: 25.6, ips: 22.91980 samples/s, eta: 0:03:40\n",
            "[2023/02/12 13:11:03] ppocr INFO: save model in /content/drive/MyDrive/output_IDPL-3/latest\n",
            "[2023/02/12 13:11:13] ppocr INFO: epoch: [54/72], global_step: 108, lr: 0.000500, acc: 0.000000, norm_edit_dis: 0.000000, loss: 31.318016, avg_reader_cost: 0.25054 s, avg_batch_cost: 1.18062 s, avg_samples: 25.6, ips: 21.68346 samples/s, eta: 0:03:28\n",
            "[2023/02/12 13:11:14] ppocr INFO: save model in /content/drive/MyDrive/output_IDPL-3/latest\n",
            "[2023/02/12 13:11:24] ppocr INFO: epoch: [55/72], global_step: 110, lr: 0.000500, acc: 0.000000, norm_edit_dis: 0.000000, loss: 31.318016, avg_reader_cost: 0.18428 s, avg_batch_cost: 1.11340 s, avg_samples: 25.6, ips: 22.99258 samples/s, eta: 0:03:17\n",
            "[2023/02/12 13:11:26] ppocr INFO: save model in /content/drive/MyDrive/output_IDPL-3/latest\n",
            "[2023/02/12 13:11:36] ppocr INFO: epoch: [56/72], global_step: 112, lr: 0.000500, acc: 0.000000, norm_edit_dis: 0.000000, loss: 31.318016, avg_reader_cost: 0.21421 s, avg_batch_cost: 1.14402 s, avg_samples: 25.6, ips: 22.37727 samples/s, eta: 0:03:05\n",
            "[2023/02/12 13:11:37] ppocr INFO: save model in /content/drive/MyDrive/output_IDPL-3/latest\n",
            "[2023/02/12 13:11:47] ppocr INFO: epoch: [57/72], global_step: 114, lr: 0.000500, acc: 0.000000, norm_edit_dis: 0.000000, loss: 31.236183, avg_reader_cost: 0.21011 s, avg_batch_cost: 1.14096 s, avg_samples: 25.6, ips: 22.43721 samples/s, eta: 0:02:53\n",
            "[2023/02/12 13:11:48] ppocr INFO: save model in /content/drive/MyDrive/output_IDPL-3/latest\n",
            "[2023/02/12 13:11:58] ppocr INFO: epoch: [58/72], global_step: 116, lr: 0.000500, acc: 0.000000, norm_edit_dis: 0.000000, loss: 31.236183, avg_reader_cost: 0.17481 s, avg_batch_cost: 1.10793 s, avg_samples: 25.6, ips: 23.10622 samples/s, eta: 0:02:42\n",
            "[2023/02/12 13:12:00] ppocr INFO: save model in /content/drive/MyDrive/output_IDPL-3/latest\n",
            "[2023/02/12 13:12:09] ppocr INFO: epoch: [59/72], global_step: 118, lr: 0.000500, acc: 0.000000, norm_edit_dis: 0.000000, loss: 31.222160, avg_reader_cost: 0.17753 s, avg_batch_cost: 1.11143 s, avg_samples: 25.6, ips: 23.03346 samples/s, eta: 0:02:30\n",
            "[2023/02/12 13:12:11] ppocr INFO: save model in /content/drive/MyDrive/output_IDPL-3/latest\n",
            "[2023/02/12 13:12:21] ppocr INFO: epoch: [60/72], global_step: 120, lr: 0.000500, acc: 0.000000, norm_edit_dis: 0.000000, loss: 31.222160, avg_reader_cost: 0.22002 s, avg_batch_cost: 1.15187 s, avg_samples: 25.6, ips: 22.22468 samples/s, eta: 0:02:18\n",
            "[2023/02/12 13:12:22] ppocr INFO: save model in /content/drive/MyDrive/output_IDPL-3/latest\n",
            "[2023/02/12 13:12:24] ppocr INFO: save model in /content/drive/MyDrive/output_IDPL-3/iter_epoch_60\n",
            "[2023/02/12 13:12:34] ppocr INFO: epoch: [61/72], global_step: 122, lr: 0.000500, acc: 0.000000, norm_edit_dis: 0.000000, loss: 31.222160, avg_reader_cost: 0.34481 s, avg_batch_cost: 1.27238 s, avg_samples: 25.6, ips: 20.11984 samples/s, eta: 0:02:07\n",
            "[2023/02/12 13:12:35] ppocr INFO: save model in /content/drive/MyDrive/output_IDPL-3/latest\n",
            "[2023/02/12 13:12:45] ppocr INFO: epoch: [62/72], global_step: 124, lr: 0.000500, acc: 0.000000, norm_edit_dis: 0.000000, loss: 30.949398, avg_reader_cost: 0.19372 s, avg_batch_cost: 1.12997 s, avg_samples: 25.6, ips: 22.65548 samples/s, eta: 0:01:55\n",
            "[2023/02/12 13:12:47] ppocr INFO: save model in /content/drive/MyDrive/output_IDPL-3/latest\n",
            "[2023/02/12 13:12:56] ppocr INFO: epoch: [63/72], global_step: 126, lr: 0.000500, acc: 0.000000, norm_edit_dis: 0.000000, loss: 30.732204, avg_reader_cost: 0.21400 s, avg_batch_cost: 1.14662 s, avg_samples: 25.6, ips: 22.32640 samples/s, eta: 0:01:44\n",
            "[2023/02/12 13:12:58] ppocr INFO: save model in /content/drive/MyDrive/output_IDPL-3/latest\n",
            "[2023/02/12 13:13:08] ppocr INFO: epoch: [64/72], global_step: 128, lr: 0.000500, acc: 0.000000, norm_edit_dis: 0.000000, loss: 30.732204, avg_reader_cost: 0.25680 s, avg_batch_cost: 1.18904 s, avg_samples: 25.6, ips: 21.52991 samples/s, eta: 0:01:32\n",
            "[2023/02/12 13:13:10] ppocr INFO: save model in /content/drive/MyDrive/output_IDPL-3/latest\n",
            "[2023/02/12 13:13:20] ppocr INFO: epoch: [65/72], global_step: 130, lr: 0.000500, acc: 0.000000, norm_edit_dis: 0.000000, loss: 30.732204, avg_reader_cost: 0.21441 s, avg_batch_cost: 1.14710 s, avg_samples: 25.6, ips: 22.31718 samples/s, eta: 0:01:21\n",
            "[2023/02/12 13:13:21] ppocr INFO: save model in /content/drive/MyDrive/output_IDPL-3/latest\n",
            "[2023/02/12 13:13:31] ppocr INFO: epoch: [66/72], global_step: 132, lr: 0.000500, acc: 0.000000, norm_edit_dis: 0.000000, loss: 30.693699, avg_reader_cost: 0.17449 s, avg_batch_cost: 1.10347 s, avg_samples: 25.6, ips: 23.19944 samples/s, eta: 0:01:09\n",
            "[2023/02/12 13:13:33] ppocr INFO: save model in /content/drive/MyDrive/output_IDPL-3/latest\n",
            "[2023/02/12 13:13:43] ppocr INFO: epoch: [67/72], global_step: 134, lr: 0.000500, acc: 0.000000, norm_edit_dis: 0.000000, loss: 30.693699, avg_reader_cost: 0.25030 s, avg_batch_cost: 1.18377 s, avg_samples: 25.6, ips: 21.62577 samples/s, eta: 0:00:57\n",
            "[2023/02/12 13:13:44] ppocr INFO: save model in /content/drive/MyDrive/output_IDPL-3/latest\n",
            "[2023/02/12 13:13:54] ppocr INFO: epoch: [68/72], global_step: 136, lr: 0.000500, acc: 0.000000, norm_edit_dis: 0.000000, loss: 30.659164, avg_reader_cost: 0.17518 s, avg_batch_cost: 1.11012 s, avg_samples: 25.6, ips: 23.06063 samples/s, eta: 0:00:46\n",
            "[2023/02/12 13:13:55] ppocr INFO: save model in /content/drive/MyDrive/output_IDPL-3/latest\n",
            "[2023/02/12 13:14:05] ppocr INFO: epoch: [69/72], global_step: 138, lr: 0.000500, acc: 0.000000, norm_edit_dis: 0.000000, loss: 30.621574, avg_reader_cost: 0.17214 s, avg_batch_cost: 1.10528 s, avg_samples: 25.6, ips: 23.16165 samples/s, eta: 0:00:34\n",
            "[2023/02/12 13:14:07] ppocr INFO: save model in /content/drive/MyDrive/output_IDPL-3/latest\n",
            "[2023/02/12 13:14:17] ppocr INFO: epoch: [70/72], global_step: 140, lr: 0.000500, acc: 0.000000, norm_edit_dis: 0.000000, loss: 30.559347, avg_reader_cost: 0.25959 s, avg_batch_cost: 1.18727 s, avg_samples: 25.6, ips: 21.56209 samples/s, eta: 0:00:23\n",
            "[2023/02/12 13:14:18] ppocr INFO: save model in /content/drive/MyDrive/output_IDPL-3/latest\n",
            "[2023/02/12 13:14:19] ppocr INFO: save model in /content/drive/MyDrive/output_IDPL-3/iter_epoch_70\n",
            "[2023/02/12 13:14:29] ppocr INFO: epoch: [71/72], global_step: 142, lr: 0.000500, acc: 0.000000, norm_edit_dis: 0.000000, loss: 30.559347, avg_reader_cost: 0.31770 s, avg_batch_cost: 1.24568 s, avg_samples: 25.6, ips: 20.55108 samples/s, eta: 0:00:11\n",
            "[2023/02/12 13:14:31] ppocr INFO: save model in /content/drive/MyDrive/output_IDPL-3/latest\n",
            "[2023/02/12 13:14:41] ppocr INFO: epoch: [72/72], global_step: 144, lr: 0.000500, acc: 0.000000, norm_edit_dis: 0.000000, loss: 30.532734, avg_reader_cost: 0.21082 s, avg_batch_cost: 1.14384 s, avg_samples: 25.6, ips: 22.38067 samples/s, eta: 0:00:00\n",
            "[2023/02/12 13:14:42] ppocr INFO: save model in /content/drive/MyDrive/output_IDPL-3/latest\n",
            "[2023/02/12 13:14:42] ppocr INFO: best metric, acc: 0, is_float16: False\n"
          ]
        }
      ]
    },
    {
      "cell_type": "markdown",
      "source": [
        "#continue trained model"
      ],
      "metadata": {
        "id": "Zszf14076tRy"
      }
    },
    {
      "cell_type": "code",
      "source": [
        "!python3 tools/train.py -c /content/drive/MyDrive/output_IDPL-2/config.yml -o Global.checkpoints=/content/drive/MyDrive/output_IDPL-2/latest"
      ],
      "metadata": {
        "id": "CfUYn2DC6uYC"
      },
      "execution_count": null,
      "outputs": []
    },
    {
      "cell_type": "markdown",
      "source": [
        "#idpl"
      ],
      "metadata": {
        "id": "9NgYrM-h0FsM"
      }
    },
    {
      "cell_type": "code",
      "source": [],
      "metadata": {
        "id": "lIOHelACy-mO"
      },
      "execution_count": null,
      "outputs": []
    }
  ]
}