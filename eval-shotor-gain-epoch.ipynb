{
  "nbformat": 4,
  "nbformat_minor": 0,
  "metadata": {
    "colab": {
      "provenance": []
    },
    "kernelspec": {
      "name": "python3",
      "display_name": "Python 3"
    },
    "language_info": {
      "name": "python"
    },
    "accelerator": "GPU",
    "gpuClass": "standard"
  },
  "cells": [
    {
      "cell_type": "code",
      "execution_count": 1,
      "metadata": {
        "colab": {
          "base_uri": "https://localhost:8080/"
        },
        "id": "PNHaHc7s3cOv",
        "outputId": "a2074844-fe0f-4787-c526-9797f923beaf"
      },
      "outputs": [
        {
          "output_type": "stream",
          "name": "stdout",
          "text": [
            "Mounted at /content/drive\n"
          ]
        }
      ],
      "source": [
        "from google.colab import drive\n",
        "drive.mount('/content/drive')"
      ]
    },
    {
      "cell_type": "markdown",
      "source": [
        "Install Paddleocr compatible with the system (cuda11.2 & system linux)\n",
        "\n",
        "download pretrained model this link\n",
        "\n",
        "https://drive.google.com/file/d/18wR7X2zDEdWBHBTPXSJT5S5L1_O7rmKh/view?usp=sharing"
      ],
      "metadata": {
        "id": "lupxbsEy3wJG"
      }
    },
    {
      "cell_type": "code",
      "source": [
        "!python -m pip install paddlepaddle-gpu==2.4.1.post112 -f https://www.paddlepaddle.org.cn/whl/linux/mkl/avx/stable.html\n",
        "!git clone https://github.com/PaddlePaddle/PaddleOCR.git\n",
        "%cd /content/PaddleOCR\n",
        "!pip install -r requirements.txt\n"
      ],
      "metadata": {
        "id": "La9sJ0gP3nAH"
      },
      "execution_count": null,
      "outputs": []
    },
    {
      "cell_type": "code",
      "source": [
        "%cd /content/PaddleOCR"
      ],
      "metadata": {
        "id": "Z29gst9O_6iu",
        "colab": {
          "base_uri": "https://localhost:8080/"
        },
        "outputId": "21334d84-d8b7-4608-8365-cdf83a0909ab"
      },
      "execution_count": 13,
      "outputs": [
        {
          "output_type": "stream",
          "name": "stdout",
          "text": [
            "/content/PaddleOCR\n"
          ]
        }
      ]
    },
    {
      "cell_type": "markdown",
      "source": [
        "**evaluate dataset shotor**"
      ],
      "metadata": {
        "id": "2XmUcQ_4A8Lb"
      }
    },
    {
      "cell_type": "code",
      "source": [
        "!python3 -m paddle.distributed.launch --gpus '0' tools/eval.py -c /content/drive/MyDrive/output-paddelocr-shotor/rec/mv3_none_bilstm_ctc/config.yml -o Global.checkpoints=/content/drive/MyDrive/output-paddelocr-shotor/rec/mv3_none_bilstm_ctc/best_accuracy"
      ],
      "metadata": {
        "id": "GYao1nqnTOwK",
        "colab": {
          "base_uri": "https://localhost:8080/"
        },
        "outputId": "d734de84-17ff-4e0b-ed92-e3cba73eda6d"
      },
      "execution_count": 20,
      "outputs": [
        {
          "output_type": "stream",
          "name": "stdout",
          "text": [
            "LAUNCH INFO 2023-02-15 07:12:56,454 -----------  Configuration  ----------------------\n",
            "LAUNCH INFO 2023-02-15 07:12:56,454 devices: 0\n",
            "LAUNCH INFO 2023-02-15 07:12:56,455 elastic_level: -1\n",
            "LAUNCH INFO 2023-02-15 07:12:56,455 elastic_timeout: 30\n",
            "LAUNCH INFO 2023-02-15 07:12:56,455 gloo_port: 6767\n",
            "LAUNCH INFO 2023-02-15 07:12:56,455 host: None\n",
            "LAUNCH INFO 2023-02-15 07:12:56,455 ips: None\n",
            "LAUNCH INFO 2023-02-15 07:12:56,455 job_id: default\n",
            "LAUNCH INFO 2023-02-15 07:12:56,455 legacy: False\n",
            "LAUNCH INFO 2023-02-15 07:12:56,455 log_dir: log\n",
            "LAUNCH INFO 2023-02-15 07:12:56,455 log_level: INFO\n",
            "LAUNCH INFO 2023-02-15 07:12:56,455 master: None\n",
            "LAUNCH INFO 2023-02-15 07:12:56,455 max_restart: 3\n",
            "LAUNCH INFO 2023-02-15 07:12:56,455 nnodes: 1\n",
            "LAUNCH INFO 2023-02-15 07:12:56,455 nproc_per_node: None\n",
            "LAUNCH INFO 2023-02-15 07:12:56,455 rank: -1\n",
            "LAUNCH INFO 2023-02-15 07:12:56,455 run_mode: collective\n",
            "LAUNCH INFO 2023-02-15 07:12:56,455 server_num: None\n",
            "LAUNCH INFO 2023-02-15 07:12:56,455 servers: \n",
            "LAUNCH INFO 2023-02-15 07:12:56,455 start_port: 6070\n",
            "LAUNCH INFO 2023-02-15 07:12:56,455 trainer_num: None\n",
            "LAUNCH INFO 2023-02-15 07:12:56,455 trainers: \n",
            "LAUNCH INFO 2023-02-15 07:12:56,455 training_script: tools/eval.py\n",
            "LAUNCH INFO 2023-02-15 07:12:56,455 training_script_args: ['-c', '/content/drive/MyDrive/output-paddelocr-shotor/rec/mv3_none_bilstm_ctc/config.yml', '-o', 'Global.checkpoints=/content/drive/MyDrive/output-paddelocr-shotor/rec/mv3_none_bilstm_ctc/best_accuracy']\n",
            "LAUNCH INFO 2023-02-15 07:12:56,455 with_gloo: 1\n",
            "LAUNCH INFO 2023-02-15 07:12:56,455 --------------------------------------------------\n",
            "LAUNCH INFO 2023-02-15 07:12:56,456 Job: default, mode collective, replicas 1[1:1], elastic False\n",
            "LAUNCH INFO 2023-02-15 07:12:56,462 Run Pod: twmcqn, replicas 1, status ready\n",
            "LAUNCH INFO 2023-02-15 07:12:56,470 Watching Pod: twmcqn, replicas 1, status running\n",
            "[2023/02/15 07:12:58] ppocr INFO: Architecture : \n",
            "[2023/02/15 07:12:58] ppocr INFO:     Backbone : \n",
            "[2023/02/15 07:12:58] ppocr INFO:         model_name : large\n",
            "[2023/02/15 07:12:58] ppocr INFO:         name : MobileNetV3\n",
            "[2023/02/15 07:12:58] ppocr INFO:         scale : 0.5\n",
            "[2023/02/15 07:12:58] ppocr INFO:     Head : \n",
            "[2023/02/15 07:12:58] ppocr INFO:         fc_decay : 0\n",
            "[2023/02/15 07:12:58] ppocr INFO:         name : CTCHead\n",
            "[2023/02/15 07:12:58] ppocr INFO:     Neck : \n",
            "[2023/02/15 07:12:58] ppocr INFO:         encoder_type : rnn\n",
            "[2023/02/15 07:12:58] ppocr INFO:         hidden_size : 96\n",
            "[2023/02/15 07:12:58] ppocr INFO:         name : SequenceEncoder\n",
            "[2023/02/15 07:12:58] ppocr INFO:     Transform : None\n",
            "[2023/02/15 07:12:58] ppocr INFO:     algorithm : CRNN\n",
            "[2023/02/15 07:12:58] ppocr INFO:     model_type : rec\n",
            "[2023/02/15 07:12:58] ppocr INFO: Eval : \n",
            "[2023/02/15 07:12:58] ppocr INFO:     dataset : \n",
            "[2023/02/15 07:12:58] ppocr INFO:         data_dir : /content/PaddleOCR/train_data/test-shotor\n",
            "[2023/02/15 07:12:58] ppocr INFO:         label_file_list : ['/content/PaddleOCR/train_data/test-shotor.txt']\n",
            "[2023/02/15 07:12:58] ppocr INFO:         name : SimpleDataSet\n",
            "[2023/02/15 07:12:58] ppocr INFO:         transforms : \n",
            "[2023/02/15 07:12:58] ppocr INFO:             DecodeImage : \n",
            "[2023/02/15 07:12:58] ppocr INFO:                 channel_first : False\n",
            "[2023/02/15 07:12:58] ppocr INFO:                 img_mode : BGR\n",
            "[2023/02/15 07:12:58] ppocr INFO:             CTCLabelEncode : None\n",
            "[2023/02/15 07:12:58] ppocr INFO:             RecResizeImg : \n",
            "[2023/02/15 07:12:58] ppocr INFO:                 image_shape : [3, 48, 320]\n",
            "[2023/02/15 07:12:58] ppocr INFO:             KeepKeys : \n",
            "[2023/02/15 07:12:58] ppocr INFO:                 keep_keys : ['image', 'label', 'length']\n",
            "[2023/02/15 07:12:58] ppocr INFO:     loader : \n",
            "[2023/02/15 07:12:58] ppocr INFO:         batch_size_per_card : 128\n",
            "[2023/02/15 07:12:58] ppocr INFO:         drop_last : False\n",
            "[2023/02/15 07:12:58] ppocr INFO:         num_workers : 8\n",
            "[2023/02/15 07:12:58] ppocr INFO:         shuffle : False\n",
            "[2023/02/15 07:12:58] ppocr INFO: Global : \n",
            "[2023/02/15 07:12:58] ppocr INFO:     cal_metric_during_train : True\n",
            "[2023/02/15 07:12:58] ppocr INFO:     character_dict_path : /content/drive/MyDrive/shotor-dataset/shotor.txt\n",
            "[2023/02/15 07:12:58] ppocr INFO:     checkpoints : /content/drive/MyDrive/output-paddelocr-shotor/rec/mv3_none_bilstm_ctc/best_accuracy\n",
            "[2023/02/15 07:12:58] ppocr INFO:     distributed : False\n",
            "[2023/02/15 07:12:58] ppocr INFO:     epoch_num : 72\n",
            "[2023/02/15 07:12:58] ppocr INFO:     eval_batch_step : [0, 200]\n",
            "[2023/02/15 07:12:58] ppocr INFO:     infer_img : /content/drive/MyDrive/shotor-dataset/111002.tif\n",
            "[2023/02/15 07:12:58] ppocr INFO:     infer_mode : False\n",
            "[2023/02/15 07:12:58] ppocr INFO:     log_smooth_window : 20\n",
            "[2023/02/15 07:12:58] ppocr INFO:     max_text_length : 25\n",
            "[2023/02/15 07:12:58] ppocr INFO:     pretrained_model : None\n",
            "[2023/02/15 07:12:58] ppocr INFO:     print_batch_step : 10\n",
            "[2023/02/15 07:12:58] ppocr INFO:     save_epoch_step : 10\n",
            "[2023/02/15 07:12:58] ppocr INFO:     save_inference_dir : None\n",
            "[2023/02/15 07:12:58] ppocr INFO:     save_model_dir : /content/drive/MyDrive/output-paddelocr-shotor/rec/mv3_none_bilstm_ctc/\n",
            "[2023/02/15 07:12:58] ppocr INFO:     save_res_path : /content/drive/MyDrive/outputt/rec/predicts_mv3_none_bilstm_ctc.txt\n",
            "[2023/02/15 07:12:58] ppocr INFO:     use_gpu : True\n",
            "[2023/02/15 07:12:58] ppocr INFO:     use_space_char : False\n",
            "[2023/02/15 07:12:58] ppocr INFO:     use_visualdl : False\n",
            "[2023/02/15 07:12:58] ppocr INFO: Loss : \n",
            "[2023/02/15 07:12:58] ppocr INFO:     name : CTCLoss\n",
            "[2023/02/15 07:12:58] ppocr INFO: Metric : \n",
            "[2023/02/15 07:12:58] ppocr INFO:     main_indicator : acc\n",
            "[2023/02/15 07:12:58] ppocr INFO:     name : RecMetric\n",
            "[2023/02/15 07:12:58] ppocr INFO: Optimizer : \n",
            "[2023/02/15 07:12:58] ppocr INFO:     beta1 : 0.9\n",
            "[2023/02/15 07:12:58] ppocr INFO:     beta2 : 0.999\n",
            "[2023/02/15 07:12:58] ppocr INFO:     lr : \n",
            "[2023/02/15 07:12:58] ppocr INFO:         learning_rate : 0.0005\n",
            "[2023/02/15 07:12:58] ppocr INFO:     name : Adam\n",
            "[2023/02/15 07:12:58] ppocr INFO:     regularizer : \n",
            "[2023/02/15 07:12:58] ppocr INFO:         factor : 0\n",
            "[2023/02/15 07:12:58] ppocr INFO:         name : L2\n",
            "[2023/02/15 07:12:58] ppocr INFO: PostProcess : \n",
            "[2023/02/15 07:12:58] ppocr INFO:     name : CTCLabelDecode\n",
            "[2023/02/15 07:12:58] ppocr INFO: Train : \n",
            "[2023/02/15 07:12:58] ppocr INFO:     dataset : \n",
            "[2023/02/15 07:12:58] ppocr INFO:         data_dir : /content/PaddleOCR/train_data/train-shotor\n",
            "[2023/02/15 07:12:58] ppocr INFO:         label_file_list : ['/content/PaddleOCR/train_data/train-shotor.txt']\n",
            "[2023/02/15 07:12:58] ppocr INFO:         name : SimpleDataSet\n",
            "[2023/02/15 07:12:58] ppocr INFO:         transforms : \n",
            "[2023/02/15 07:12:58] ppocr INFO:             DecodeImage : \n",
            "[2023/02/15 07:12:58] ppocr INFO:                 channel_first : False\n",
            "[2023/02/15 07:12:58] ppocr INFO:                 img_mode : BGR\n",
            "[2023/02/15 07:12:58] ppocr INFO:             CTCLabelEncode : None\n",
            "[2023/02/15 07:12:58] ppocr INFO:             RecResizeImg : \n",
            "[2023/02/15 07:12:58] ppocr INFO:                 image_shape : [3, 48, 320]\n",
            "[2023/02/15 07:12:58] ppocr INFO:             KeepKeys : \n",
            "[2023/02/15 07:12:58] ppocr INFO:                 keep_keys : ['image', 'label', 'length']\n",
            "[2023/02/15 07:12:58] ppocr INFO:     loader : \n",
            "[2023/02/15 07:12:58] ppocr INFO:         batch_size_per_card : 128\n",
            "[2023/02/15 07:12:58] ppocr INFO:         drop_last : True\n",
            "[2023/02/15 07:12:58] ppocr INFO:         num_workers : 8\n",
            "[2023/02/15 07:12:58] ppocr INFO:         shuffle : False\n",
            "[2023/02/15 07:12:58] ppocr INFO: profiler_options : None\n",
            "[2023/02/15 07:12:58] ppocr INFO: train with paddle 2.4.1 and device Place(gpu:0)\n",
            "[2023/02/15 07:12:58] ppocr INFO: Initialize indexs of datasets:['/content/PaddleOCR/train_data/test-shotor.txt']\n",
            "W0215 07:12:58.760767  5029 gpu_resources.cc:61] Please NOTE: device: 0, GPU Compute Capability: 7.5, Driver API Version: 11.6, Runtime API Version: 11.6\n",
            "W0215 07:12:58.880949  5029 gpu_resources.cc:91] device: 0, cuDNN Version: 8.4.\n",
            "[2023/02/15 07:13:01] ppocr INFO: resume from /content/drive/MyDrive/output-paddelocr-shotor/rec/mv3_none_bilstm_ctc/best_accuracy\n",
            "[2023/02/15 07:13:01] ppocr INFO: metric in ckpt ***************\n",
            "[2023/02/15 07:13:01] ppocr INFO: acc:0.9664444422967902\n",
            "[2023/02/15 07:13:01] ppocr INFO: is_float16:False\n",
            "[2023/02/15 07:13:01] ppocr INFO: norm_edit_dis:0.9948265271880238\n",
            "[2023/02/15 07:13:01] ppocr INFO: fps:1127.8605218568762\n",
            "[2023/02/15 07:13:01] ppocr INFO: best_epoch:53\n",
            "[2023/02/15 07:13:01] ppocr INFO: start_epoch:54\n",
            "\n",
            "eval model::   0%|          | 0/36 [00:00<?, ?it/s]\n",
            "eval model::   3%|▎         | 1/36 [00:09<05:28,  9.40s/it]\n",
            "eval model::   6%|▌         | 2/36 [00:09<02:14,  3.96s/it]\n",
            "eval model::   8%|▊         | 3/36 [00:09<01:13,  2.22s/it]\n",
            "eval model::  11%|█         | 4/36 [00:09<00:45,  1.41s/it]\n",
            "eval model::  14%|█▍        | 5/36 [00:10<00:29,  1.04it/s]\n",
            "eval model::  17%|█▋        | 6/36 [00:10<00:20,  1.47it/s]\n",
            "eval model::  19%|█▉        | 7/36 [00:10<00:14,  1.98it/s]\n",
            "eval model::  22%|██▏       | 8/36 [00:10<00:11,  2.51it/s]\n",
            "eval model::  25%|██▌       | 9/36 [00:10<00:08,  3.14it/s]\n",
            "eval model::  28%|██▊       | 10/36 [00:10<00:06,  3.82it/s]\n",
            "eval model::  31%|███       | 11/36 [00:10<00:05,  4.45it/s]\n",
            "eval model::  33%|███▎      | 12/36 [00:11<00:04,  4.87it/s]\n",
            "eval model::  36%|███▌      | 13/36 [00:11<00:04,  5.29it/s]\n",
            "eval model::  39%|███▉      | 14/36 [00:11<00:04,  5.47it/s]\n",
            "eval model::  42%|████▏     | 15/36 [00:11<00:03,  5.82it/s]\n",
            "eval model::  44%|████▍     | 16/36 [00:11<00:03,  6.10it/s]\n",
            "eval model::  47%|████▋     | 17/36 [00:11<00:02,  6.42it/s]\n",
            "eval model::  50%|█████     | 18/36 [00:11<00:02,  6.45it/s]\n",
            "eval model::  53%|█████▎    | 19/36 [00:12<00:02,  6.81it/s]\n",
            "eval model::  56%|█████▌    | 20/36 [00:12<00:02,  7.34it/s]\n",
            "eval model::  58%|█████▊    | 21/36 [00:12<00:01,  7.81it/s]\n",
            "eval model::  61%|██████    | 22/36 [00:12<00:01,  8.18it/s]\n",
            "eval model::  64%|██████▍   | 23/36 [00:12<00:01,  8.46it/s]\n",
            "eval model::  67%|██████▋   | 24/36 [00:12<00:01,  8.67it/s]\n",
            "eval model::  69%|██████▉   | 25/36 [00:12<00:01,  8.77it/s]\n",
            "eval model::  72%|███████▏  | 26/36 [00:12<00:01,  8.90it/s]\n",
            "eval model::  75%|███████▌  | 27/36 [00:12<00:01,  8.98it/s]\n",
            "eval model::  78%|███████▊  | 28/36 [00:13<00:00,  9.02it/s]\n",
            "eval model::  81%|████████  | 29/36 [00:13<00:00,  9.05it/s]\n",
            "eval model::  83%|████████▎ | 30/36 [00:13<00:00,  9.09it/s]\n",
            "eval model::  86%|████████▌ | 31/36 [00:13<00:00,  9.12it/s]\n",
            "eval model::  89%|████████▉ | 32/36 [00:13<00:00,  9.15it/s]\n",
            "eval model::  92%|█████████▏| 33/36 [00:13<00:00,  9.13it/s]\n",
            "eval model::  94%|█████████▍| 34/36 [00:13<00:00,  9.15it/s]\n",
            "eval model::  97%|█████████▋| 35/36 [00:13<00:00,  9.17it/s]\n",
            "eval model:: 100%|██████████| 36/36 [00:13<00:00,  2.57it/s]\n",
            "[2023/02/15 07:13:15] ppocr INFO: metric eval ***************\n",
            "[2023/02/15 07:13:15] ppocr INFO: acc:0.9684374283875585\n",
            "[2023/02/15 07:13:15] ppocr INFO: norm_edit_dis:0.9956522565476728\n",
            "[2023/02/15 07:13:15] ppocr INFO: fps:370.0449233931697\n",
            "LAUNCH INFO 2023-02-15 07:13:17,494 Pod completed\n",
            "LAUNCH INFO 2023-02-15 07:13:17,494 Exit code 0\n"
          ]
        }
      ]
    }
  ]
}